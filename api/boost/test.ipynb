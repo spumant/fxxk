{
 "cells": [
  {
   "cell_type": "code",
   "execution_count": 3,
   "metadata": {
    "collapsed": true,
    "ExecuteTime": {
     "end_time": "2023-06-01T09:37:24.874545400Z",
     "start_time": "2023-06-01T09:37:23.802272800Z"
    }
   },
   "outputs": [],
   "source": [
    "from api.endpoints.classification import get_work_scores\n",
    "from api.endpoints.similar import get_similar\n",
    "from lightgbm import LGBMClassifier\n",
    "from sklearn.model_selection import train_test_split\n",
    "import numpy as np\n",
    "import pandas as pd\n",
    "from sklearn.metrics import roc_auc_score, accuracy_score\n",
    "from sklearn.model_selection import GridSearchCV"
   ]
  },
  {
   "cell_type": "code",
   "execution_count": 4,
   "outputs": [],
   "source": [
    "from collections import ChainMap"
   ],
   "metadata": {
    "collapsed": false,
    "ExecuteTime": {
     "end_time": "2023-06-01T09:40:21.456572300Z",
     "start_time": "2023-06-01T09:40:21.440572500Z"
    }
   }
  },
  {
   "cell_type": "code",
   "execution_count": null,
   "outputs": [],
   "source": [
    "for i in range(1, 100):\n",
    "    work_scores = get_work_scores(i)\n",
    "    similar_scores = get_similar(i)\n",
    "    d = dict(ChainMap(work_scores, similar_scores))\n",
    "    df = pd.DataFrame(d)\n",
    "    df.to_csv('data.csv', mode='a', index=False, header=False)"
   ],
   "metadata": {
    "collapsed": false
   }
  }
 ],
 "metadata": {
  "kernelspec": {
   "display_name": "Python 3",
   "language": "python",
   "name": "python3"
  },
  "language_info": {
   "codemirror_mode": {
    "name": "ipython",
    "version": 2
   },
   "file_extension": ".py",
   "mimetype": "text/x-python",
   "name": "python",
   "nbconvert_exporter": "python",
   "pygments_lexer": "ipython2",
   "version": "2.7.6"
  }
 },
 "nbformat": 4,
 "nbformat_minor": 0
}
